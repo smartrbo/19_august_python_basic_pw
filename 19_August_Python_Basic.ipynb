{
 "cells": [
  {
   "cell_type": "code",
   "execution_count": 1,
   "id": "8d9ecfd6-82de-40c1-8769-75d2e01b2900",
   "metadata": {},
   "outputs": [
    {
     "name": "stdout",
     "output_type": "stream",
     "text": [
      "3 12\n"
     ]
    }
   ],
   "source": [
    "#Declare two variables, `x` and `y`, and assign them integer values. Swap the values of these variables without using any temporary variable.\n",
    "x=12\n",
    "y=3\n",
    "x, y=y,x # it will assign the 12 value to y and 3 to x\n",
    "print(x,y)"
   ]
  },
  {
   "cell_type": "code",
   "execution_count": 2,
   "id": "cc46aa48-15ad-4e7a-b5f3-6bc22c084436",
   "metadata": {},
   "outputs": [
    {
     "name": "stdin",
     "output_type": "stream",
     "text": [
      "Enter the Length 4\n",
      "Enter the width 5\n"
     ]
    },
    {
     "data": {
      "text/plain": [
       "20"
      ]
     },
     "execution_count": 2,
     "metadata": {},
     "output_type": "execute_result"
    }
   ],
   "source": [
    "#Create a program that calculates the area of a rectangle. Take the length and width as inputs from the user and store them in variables. Calculate anddisplay the area.\n",
    "length=int(input(\"Enter the Length\"))\n",
    "width=int(input(\"Enter the width\"))\n",
    "area_of_rectangle=length*width\n",
    "area_of_rectangle\n"
   ]
  },
  {
   "cell_type": "code",
   "execution_count": 3,
   "id": "79733318-4d98-450f-818f-2fd36bc23a64",
   "metadata": {},
   "outputs": [
    {
     "name": "stdin",
     "output_type": "stream",
     "text": [
      "Enter the Tempreature in the celsius:: 36\n"
     ]
    },
    {
     "name": "stdout",
     "output_type": "stream",
     "text": [
      "Tempreture in fahrenheit is 96.8\n"
     ]
    }
   ],
   "source": [
    "#Write a Python program that converts temperatures from Celsius toFahrenheit. Take the temperature in Celsius as input, store it in a variable,convert it to Fahrenheit, and display the result.\n",
    "celsius=float(input(\"Enter the Tempreature in the celsius::\"))\n",
    "fahrenheit=celsius * (9/5) + 32     ##it will convert celsius to fahrenheit\n",
    "print(\"Tempreture in fahrenheit is\",fahrenheit)"
   ]
  },
  {
   "cell_type": "code",
   "execution_count": 4,
   "id": "c8bd7ab4-46a5-4fd2-a520-5112cb066113",
   "metadata": {},
   "outputs": [
    {
     "data": {
      "text/plain": [
       "21"
      ]
     },
     "execution_count": 4,
     "metadata": {},
     "output_type": "execute_result"
    }
   ],
   "source": [
    "#Write a Python program that takes a string as input and prints the length of the string.\n",
    "stp='kunal appa loves yuks'\n",
    "len(stp)\n"
   ]
  },
  {
   "cell_type": "code",
   "execution_count": 5,
   "id": "8d65f8cb-9761-4e74-9c92-baa3637db8cc",
   "metadata": {},
   "outputs": [
    {
     "name": "stdin",
     "output_type": "stream",
     "text": [
      "Enter  the sentence:: kunal love yuks\n"
     ]
    },
    {
     "name": "stdout",
     "output_type": "stream",
     "text": [
      "5\n"
     ]
    }
   ],
   "source": [
    "#Create a program that takes a sentence from the user and counts the number of vowels (a, e, i, o, u) in the string.\n",
    "vowels = \"aeiouAEIOU\"\n",
    "sentence = input(\"Enter  the sentence::\")\n",
    "count = 0\n",
    "for letter in sentence:\n",
    "  if letter in vowels:\n",
    "    count += 1\n",
    "\n",
    "print(count)"
   ]
  },
  {
   "cell_type": "code",
   "execution_count": 6,
   "id": "d0edbd4e-32eb-44e9-a75f-ca81bf0aec9e",
   "metadata": {},
   "outputs": [
    {
     "data": {
      "text/plain": [
       "'kuy evol lanuk'"
      ]
     },
     "execution_count": 6,
     "metadata": {},
     "output_type": "execute_result"
    }
   ],
   "source": [
    "#Given a string, reverse the order of characters using string slicing and print the reversed string.\n",
    "string='kunal love yuk'\n",
    "string[::-1]"
   ]
  },
  {
   "cell_type": "code",
   "execution_count": 10,
   "id": "fe9f028e-ee6a-41c1-81c8-df9430d0351e",
   "metadata": {},
   "outputs": [
    {
     "name": "stdin",
     "output_type": "stream",
     "text": [
      "Enter the string:: 2002\n"
     ]
    },
    {
     "name": "stdout",
     "output_type": "stream",
     "text": [
      "It is a palidrone number\n"
     ]
    }
   ],
   "source": [
    "#Write a program that takes a string as input and checks if it is a palindrome (reads the same forwards and backwards).\n",
    "pali=input(\"Enter the string::\")\n",
    "if pali[::-1]:\n",
    "    print(\"It is a palidrone number\")\n",
    "else:\n",
    "    print(\"It is not a palidrone numbe\")\n"
   ]
  },
  {
   "cell_type": "code",
   "execution_count": 11,
   "id": "26ec5744-1ee3-4a91-abb9-74f6e46467f3",
   "metadata": {},
   "outputs": [
    {
     "name": "stdin",
     "output_type": "stream",
     "text": [
      "Enter the string kunak appa yuks\n"
     ]
    },
    {
     "name": "stdout",
     "output_type": "stream",
     "text": [
      "kunakappayuks\n"
     ]
    }
   ],
   "source": [
    "#Create a program that takes a string as input and removes all the spaces from it. Print the modified string without spaces.\n",
    "prog=input(\"Enter the string\")\n",
    "t=prog.replace(' ','' )  #it will repalce string\n",
    "print(t)"
   ]
  },
  {
   "cell_type": "code",
   "execution_count": null,
   "id": "5f5855c8-7024-41aa-a7c0-66bc09a54734",
   "metadata": {},
   "outputs": [],
   "source": []
  }
 ],
 "metadata": {
  "kernelspec": {
   "display_name": "Python 3 (ipykernel)",
   "language": "python",
   "name": "python3"
  },
  "language_info": {
   "codemirror_mode": {
    "name": "ipython",
    "version": 3
   },
   "file_extension": ".py",
   "mimetype": "text/x-python",
   "name": "python",
   "nbconvert_exporter": "python",
   "pygments_lexer": "ipython3",
   "version": "3.10.8"
  }
 },
 "nbformat": 4,
 "nbformat_minor": 5
}
